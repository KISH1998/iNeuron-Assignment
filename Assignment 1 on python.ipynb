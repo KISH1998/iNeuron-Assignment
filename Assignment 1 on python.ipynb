{
 "cells": [
  {
   "cell_type": "code",
   "execution_count": 1,
   "id": "9622af9c",
   "metadata": {},
   "outputs": [
    {
     "name": "stdout",
     "output_type": "stream",
     "text": [
      "Enter base :10\n",
      "Enter height :10\n",
      "Area of the triangle is 50.0\n"
     ]
    }
   ],
   "source": [
    "### 3. Write a Python program to find the area of a triangle?\\n\"\n",
    "## formula for area of triangle is A=base*height/2 (A=Area)\n",
    "\n",
    "b=int(input(\"Enter base :\")) ##b is Base of the tringle\n",
    "h=int(input(\"Enter height :\"))  ## h is Height of the tringle\n",
    "a=b*h/2   ## a=Area of tringle\n",
    "print(\"Area of the triangle is\",a)"
   ]
  },
  {
   "cell_type": "code",
   "execution_count": 3,
   "id": "e5da1f79",
   "metadata": {},
   "outputs": [
    {
     "name": "stdout",
     "output_type": "stream",
     "text": [
      " Hello Python\n"
     ]
    }
   ],
   "source": [
    "### 1. Write a Python program to print \\\"Hello Python\\\"?\"\n",
    "print(\" Hello Python\")\n"
   ]
  },
  {
   "cell_type": "code",
   "execution_count": 5,
   "id": "bfe6e52f",
   "metadata": {},
   "outputs": [
    {
     "data": {
      "text/plain": [
       "3.142857142857143"
      ]
     },
     "execution_count": 5,
     "metadata": {},
     "output_type": "execute_result"
    }
   ],
   "source": [
    "## 2. Write a Python program to do arithmetical operations addition and division.?\\n\"\n",
    "A=22\n",
    "B=7\n",
    "Add=A+B ## addition operation\n",
    "Add\n",
    "\n",
    "div=A/B ## division operation\n",
    "div\n"
   ]
  },
  {
   "cell_type": "code",
   "execution_count": 6,
   "id": "913d0a26",
   "metadata": {},
   "outputs": [
    {
     "data": {
      "text/plain": [
       "29"
      ]
     },
     "execution_count": 6,
     "metadata": {},
     "output_type": "execute_result"
    }
   ],
   "source": [
    "Add"
   ]
  },
  {
   "cell_type": "code",
   "execution_count": 7,
   "id": "d7857644",
   "metadata": {},
   "outputs": [
    {
     "name": "stdout",
     "output_type": "stream",
     "text": [
      "value of x : 80\n",
      "value of y : 20\n"
     ]
    }
   ],
   "source": [
    "### 4. Write a Python program to swap two variables?\\n\"\n",
    "x=20\n",
    "y=80\n",
    "## swapint the value of x,y \n",
    "x,y=y,x\n",
    "print(\"value of x :\",x)\n",
    "print(\"value of y :\",y)\n"
   ]
  },
  {
   "cell_type": "code",
   "execution_count": 11,
   "id": "7a644aae",
   "metadata": {},
   "outputs": [
    {
     "data": {
      "text/plain": [
       "0.061094003266625174"
      ]
     },
     "execution_count": 11,
     "metadata": {},
     "output_type": "execute_result"
    }
   ],
   "source": [
    "### 5. Write a Python program to generate a random number?\\n\"\n",
    "import random\n",
    "random.random()"
   ]
  },
  {
   "cell_type": "code",
   "execution_count": 12,
   "id": "8959ac2f",
   "metadata": {},
   "outputs": [
    {
     "data": {
      "text/plain": [
       "0.5694094014578417"
      ]
     },
     "execution_count": 12,
     "metadata": {},
     "output_type": "execute_result"
    }
   ],
   "source": [
    "import random\n",
    "random.random()"
   ]
  },
  {
   "cell_type": "code",
   "execution_count": 13,
   "id": "1fe421da",
   "metadata": {},
   "outputs": [
    {
     "data": {
      "text/plain": [
       "0.7069468370572963"
      ]
     },
     "execution_count": 13,
     "metadata": {},
     "output_type": "execute_result"
    }
   ],
   "source": [
    "import random\n",
    "random.random()"
   ]
  },
  {
   "cell_type": "code",
   "execution_count": null,
   "id": "1c4b388e",
   "metadata": {},
   "outputs": [],
   "source": []
  }
 ],
 "metadata": {
  "kernelspec": {
   "display_name": "Python 3 (ipykernel)",
   "language": "python",
   "name": "python3"
  },
  "language_info": {
   "codemirror_mode": {
    "name": "ipython",
    "version": 3
   },
   "file_extension": ".py",
   "mimetype": "text/x-python",
   "name": "python",
   "nbconvert_exporter": "python",
   "pygments_lexer": "ipython3",
   "version": "3.9.7"
  }
 },
 "nbformat": 4,
 "nbformat_minor": 5
}
