{
 "cells": [
  {
   "cell_type": "markdown",
   "id": "9616df41",
   "metadata": {},
   "source": [
    "### 1. Write a Python program to convert kilometers to miles:\n",
    "     # To convert Km to miles: formula= km*0.6213 \n"
   ]
  },
  {
   "cell_type": "code",
   "execution_count": 2,
   "id": "7756b94b",
   "metadata": {},
   "outputs": [
    {
     "name": "stdout",
     "output_type": "stream",
     "text": [
      " Km :10\n",
      " your total miles is :\n"
     ]
    },
    {
     "data": {
      "text/plain": [
       "6.213699999999999"
      ]
     },
     "execution_count": 2,
     "metadata": {},
     "output_type": "execute_result"
    }
   ],
   "source": [
    "Km= int(input(\" Km :\"))\n",
    "print(\" your total miles is :\")\n",
    "M= Km*0.62137   # M stands for miles\n",
    "M"
   ]
  },
  {
   "cell_type": "markdown",
   "id": "8f76cd91",
   "metadata": {},
   "source": [
    "### 2.Write a Python program to convert Celsius to Fahrenheit:\n",
    "      # to covert celsius to fahrenheit\n",
    "      # formula= (1c *9/5)+32=33.8F"
   ]
  },
  {
   "cell_type": "code",
   "execution_count": 3,
   "id": "71434a1d",
   "metadata": {},
   "outputs": [
    {
     "name": "stdout",
     "output_type": "stream",
     "text": [
      " celsius : 28\n",
      " celisus to fahrenheit is :\n"
     ]
    },
    {
     "data": {
      "text/plain": [
       "82.4"
      ]
     },
     "execution_count": 3,
     "metadata": {},
     "output_type": "execute_result"
    }
   ],
   "source": [
    "C= int(input(\" celsius : \"))\n",
    "print(\" celisus to fahrenheit is :\")\n",
    "F=(C*9)/5+32  # F is fahrenheit\n",
    "F\n"
   ]
  },
  {
   "cell_type": "markdown",
   "id": "172de4a1",
   "metadata": {},
   "source": [
    "### 3. Write a Python program to display calendar:\n",
    "      "
   ]
  },
  {
   "cell_type": "code",
   "execution_count": 15,
   "id": "ab67472b",
   "metadata": {},
   "outputs": [
    {
     "name": "stdout",
     "output_type": "stream",
     "text": [
      "   November 2020\n",
      "Mo Tu We Th Fr Sa Su\n",
      "                   1\n",
      " 2  3  4  5  6  7  8\n",
      " 9 10 11 12 13 14 15\n",
      "16 17 18 19 20 21 22\n",
      "23 24 25 26 27 28 29\n",
      "30\n",
      "\n"
     ]
    }
   ],
   "source": [
    "import calendar \n",
    "\n",
    "print(calendar.month(2020,11))\n",
    "\n",
    "\n"
   ]
  },
  {
   "cell_type": "code",
   "execution_count": 16,
   "id": "e84675e3",
   "metadata": {},
   "outputs": [
    {
     "name": "stdout",
     "output_type": "stream",
     "text": [
      "                                  2022\n",
      "\n",
      "      January                   February                   March\n",
      "Mo Tu We Th Fr Sa Su      Mo Tu We Th Fr Sa Su      Mo Tu We Th Fr Sa Su\n",
      "                1  2          1  2  3  4  5  6          1  2  3  4  5  6\n",
      " 3  4  5  6  7  8  9       7  8  9 10 11 12 13       7  8  9 10 11 12 13\n",
      "10 11 12 13 14 15 16      14 15 16 17 18 19 20      14 15 16 17 18 19 20\n",
      "17 18 19 20 21 22 23      21 22 23 24 25 26 27      21 22 23 24 25 26 27\n",
      "24 25 26 27 28 29 30      28                        28 29 30 31\n",
      "31\n",
      "\n",
      "       April                      May                       June\n",
      "Mo Tu We Th Fr Sa Su      Mo Tu We Th Fr Sa Su      Mo Tu We Th Fr Sa Su\n",
      "             1  2  3                         1             1  2  3  4  5\n",
      " 4  5  6  7  8  9 10       2  3  4  5  6  7  8       6  7  8  9 10 11 12\n",
      "11 12 13 14 15 16 17       9 10 11 12 13 14 15      13 14 15 16 17 18 19\n",
      "18 19 20 21 22 23 24      16 17 18 19 20 21 22      20 21 22 23 24 25 26\n",
      "25 26 27 28 29 30         23 24 25 26 27 28 29      27 28 29 30\n",
      "                          30 31\n",
      "\n",
      "        July                     August                  September\n",
      "Mo Tu We Th Fr Sa Su      Mo Tu We Th Fr Sa Su      Mo Tu We Th Fr Sa Su\n",
      "             1  2  3       1  2  3  4  5  6  7                1  2  3  4\n",
      " 4  5  6  7  8  9 10       8  9 10 11 12 13 14       5  6  7  8  9 10 11\n",
      "11 12 13 14 15 16 17      15 16 17 18 19 20 21      12 13 14 15 16 17 18\n",
      "18 19 20 21 22 23 24      22 23 24 25 26 27 28      19 20 21 22 23 24 25\n",
      "25 26 27 28 29 30 31      29 30 31                  26 27 28 29 30\n",
      "\n",
      "      October                   November                  December\n",
      "Mo Tu We Th Fr Sa Su      Mo Tu We Th Fr Sa Su      Mo Tu We Th Fr Sa Su\n",
      "                1  2          1  2  3  4  5  6                1  2  3  4\n",
      " 3  4  5  6  7  8  9       7  8  9 10 11 12 13       5  6  7  8  9 10 11\n",
      "10 11 12 13 14 15 16      14 15 16 17 18 19 20      12 13 14 15 16 17 18\n",
      "17 18 19 20 21 22 23      21 22 23 24 25 26 27      19 20 21 22 23 24 25\n",
      "24 25 26 27 28 29 30      28 29 30                  26 27 28 29 30 31\n",
      "31\n",
      "\n"
     ]
    }
   ],
   "source": [
    "import calendar \n",
    "\n",
    "print(calendar.calendar(2022))"
   ]
  },
  {
   "cell_type": "markdown",
   "id": "c3f9e255",
   "metadata": {},
   "source": [
    "### 4. Write a Python program to solve quadratic equation :\n",
    "       # let's consider quadratic equation : 8X**2+30X-27=0"
   ]
  },
  {
   "cell_type": "code",
   "execution_count": 17,
   "id": "87db3b4e",
   "metadata": {},
   "outputs": [
    {
     "name": "stdout",
     "output_type": "stream",
     "text": [
      " value of X :2\n",
      "Your Quadratic eq :\n"
     ]
    },
    {
     "data": {
      "text/plain": [
       "65"
      ]
     },
     "execution_count": 17,
     "metadata": {},
     "output_type": "execute_result"
    }
   ],
   "source": [
    "X=int(input(\" value of X :\"))\n",
    "#Q uadratic equation is :\n",
    "print(\"Your Quadratic eq :\")\n",
    "Q=8*X**2+30*2-27\n",
    "Q"
   ]
  },
  {
   "cell_type": "markdown",
   "id": "193357af",
   "metadata": {},
   "source": [
    "### 5. Write a Python program to swap two variables without temp variable:\n"
   ]
  },
  {
   "cell_type": "code",
   "execution_count": 24,
   "id": "fdb6d9fa",
   "metadata": {},
   "outputs": [
    {
     "name": "stdout",
     "output_type": "stream",
     "text": [
      "value of X : 85\n",
      "value of Y : 100\n"
     ]
    }
   ],
   "source": [
    "x=100\n",
    "y=85\n",
    "## Swapping the variables X and Y\n",
    "x,y=y,x\n",
    "print(\"value of X :\",x)\n",
    "print(\"value of Y :\",y)\n"
   ]
  },
  {
   "cell_type": "code",
   "execution_count": null,
   "id": "8cf1c2cb",
   "metadata": {},
   "outputs": [],
   "source": []
  }
 ],
 "metadata": {
  "kernelspec": {
   "display_name": "Python 3 (ipykernel)",
   "language": "python",
   "name": "python3"
  },
  "language_info": {
   "codemirror_mode": {
    "name": "ipython",
    "version": 3
   },
   "file_extension": ".py",
   "mimetype": "text/x-python",
   "name": "python",
   "nbconvert_exporter": "python",
   "pygments_lexer": "ipython3",
   "version": "3.9.7"
  }
 },
 "nbformat": 4,
 "nbformat_minor": 5
}
