{
 "cells": [
  {
   "cell_type": "markdown",
   "id": "f5942fce",
   "metadata": {},
   "source": []
  },
  {
   "cell_type": "markdown",
   "id": "a3935964",
   "metadata": {},
   "source": [
    "### 1. Write a Python Program to Find the Factorial of a Number:\n"
   ]
  },
  {
   "cell_type": "code",
   "execution_count": null,
   "id": "09620605",
   "metadata": {},
   "outputs": [],
   "source": [
    "def factorial(n):\n",
    "    if n == 0:\n",
    "        return 1\n",
    "    else:\n",
    "        return n * factorial(n-1)\n",
    "n=int(input(\"Input a number to compute the factiorial : \"))\n",
    "print(factorial(n))\n"
   ]
  },
  {
   "cell_type": "code",
   "execution_count": null,
   "id": "e375ed49",
   "metadata": {},
   "outputs": [],
   "source": []
  },
  {
   "cell_type": "markdown",
   "id": "73b7ce07",
   "metadata": {},
   "source": [
    "### 2. Write a Python Program to Display the multiplication Table:\n"
   ]
  },
  {
   "cell_type": "code",
   "execution_count": null,
   "id": "63207632",
   "metadata": {},
   "outputs": [],
   "source": [
    "num= int(input(\"Number:\"))\n",
    "# Write a Python Program to Display the multiplication Table?\"\n",
    "for i in range(0,11):\n",
    "        print(num,\"X\",i,\"=\",num*i)"
   ]
  },
  {
   "cell_type": "code",
   "execution_count": null,
   "id": "4b071505",
   "metadata": {},
   "outputs": [],
   "source": []
  },
  {
   "cell_type": "markdown",
   "id": "2cd64ae8",
   "metadata": {},
   "source": [
    "### 3. Write a Python Program to Print the Fibonacci sequence:\n"
   ]
  },
  {
   "cell_type": "code",
   "execution_count": 3,
   "id": "ac04c556",
   "metadata": {},
   "outputs": [
    {
     "name": "stdout",
     "output_type": "stream",
     "text": [
      "2\n",
      "3\n",
      "5\n",
      "8\n",
      "13\n",
      "21\n",
      "34\n",
      "55\n",
      "89\n",
      "144\n"
     ]
    }
   ],
   "source": [
    "a=1\n",
    "b=1\n",
    "for i in range(10):\n",
    "    temp=a+b\n",
    "    a=b\n",
    "    b=temp\n",
    "    print(temp)\n"
   ]
  },
  {
   "cell_type": "markdown",
   "id": "7cec8e07",
   "metadata": {},
   "source": [
    "### 4. Write a Python Program to Check Armstrong Number:\n"
   ]
  },
  {
   "cell_type": "code",
   "execution_count": 9,
   "id": "1c57972d",
   "metadata": {},
   "outputs": [
    {
     "name": "stdout",
     "output_type": "stream",
     "text": [
      "1634 is an Armstrong number\n"
     ]
    }
   ],
   "source": [
    "num = 1634\n",
    "\n",
    "# Changed num variable to string, \n",
    "# and calculated the length (number of digits)\n",
    "order = len(str(num))\n",
    "\n",
    "# initialize sum\n",
    "sum = 0\n",
    "\n",
    "# find the sum of the cube of each digit\n",
    "temp = num\n",
    "while temp > 0:\n",
    "   digit = temp % 10\n",
    "   sum += digit ** order\n",
    "   temp //= 10\n",
    "\n",
    "# display the result\n",
    "if num == sum:\n",
    "   print(num,\"is an Armstrong number\")\n",
    "else:\n",
    "   print(num,\"is not an Armstrong number\")\n"
   ]
  },
  {
   "cell_type": "code",
   "execution_count": null,
   "id": "a6d22503",
   "metadata": {},
   "outputs": [],
   "source": []
  },
  {
   "cell_type": "markdown",
   "id": "d5436103",
   "metadata": {},
   "source": [
    "### 6. Write a Python Program to Find the Sum of Natural Numbers:"
   ]
  },
  {
   "cell_type": "code",
   "execution_count": 10,
   "id": "b0a8ed02",
   "metadata": {},
   "outputs": [
    {
     "name": "stdout",
     "output_type": "stream",
     "text": [
      "The sum is 136\n"
     ]
    }
   ],
   "source": [
    "# Sum of natural numbers up to num\n",
    "\n",
    "num = 16\n",
    "\n",
    "if num < 0:\n",
    "   print(\"Enter a positive number\")\n",
    "else:\n",
    "   sum = 0\n",
    "   # use while loop to iterate until zero\n",
    "   while(num > 0):\n",
    "       sum += num\n",
    "       num -= 1\n",
    "   print(\"The sum is\", sum)"
   ]
  },
  {
   "cell_type": "code",
   "execution_count": null,
   "id": "572ec6af",
   "metadata": {},
   "outputs": [],
   "source": []
  }
 ],
 "metadata": {
  "kernelspec": {
   "display_name": "Python 3 (ipykernel)",
   "language": "python",
   "name": "python3"
  },
  "language_info": {
   "codemirror_mode": {
    "name": "ipython",
    "version": 3
   },
   "file_extension": ".py",
   "mimetype": "text/x-python",
   "name": "python",
   "nbconvert_exporter": "python",
   "pygments_lexer": "ipython3",
   "version": "3.9.7"
  }
 },
 "nbformat": 4,
 "nbformat_minor": 5
}
